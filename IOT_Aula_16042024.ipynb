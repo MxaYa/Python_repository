{
  "nbformat": 4,
  "nbformat_minor": 0,
  "metadata": {
    "colab": {
      "provenance": []
    },
    "kernelspec": {
      "name": "python3",
      "display_name": "Python 3"
    },
    "language_info": {
      "name": "python"
    }
  },
  "cells": [
    {
      "cell_type": "markdown",
      "source": [
        "#Conexão sqlite - Importação de Arquivos CSV - Atualização da tabela de log."
      ],
      "metadata": {
        "id": "pXmuhtxqvpfx"
      }
    },
    {
      "cell_type": "code",
      "source": [
        "linha = '21.837.213;2024;3;26;18;47;17;21;29;15'\n",
        "\n",
        "print(linha.split(\";\"))\n"
      ],
      "metadata": {
        "id": "2Z1Pab_p5oG3",
        "colab": {
          "base_uri": "https://localhost:8080/"
        },
        "outputId": "24faa921-dd42-4f92-c052-438841e7c405"
      },
      "execution_count": null,
      "outputs": [
        {
          "output_type": "stream",
          "name": "stdout",
          "text": [
            "['21.837.213', '2024', '3', '26', '18', '47', '17', '21', '29', '15']\n"
          ]
        }
      ]
    },
    {
      "cell_type": "code",
      "execution_count": 5,
      "metadata": {
        "id": "AD_qZSPtvf9h"
      },
      "outputs": [],
      "source": [
        "import csv\n",
        "import sqlite3\n",
        "conexao=sqlite3.connect(\"controle_horas.db\")"
      ]
    },
    {
      "cell_type": "code",
      "source": [
        "cursor3=conexao.cursor()"
      ],
      "metadata": {
        "id": "IMVnW5PFMv9g"
      },
      "execution_count": 6,
      "outputs": []
    },
    {
      "cell_type": "code",
      "source": [
        "conexao=sqlite3.connect(\"controle_horas.db\")\n",
        "# sql='Select * From aluno'\n",
        "sql ='Select * From log_entrada_saida'\n",
        "cursor3.execute(sql)\n",
        "lista_alunos=cursor3.fetchall()\n",
        "conexao.close()\n",
        "print(lista_alunos)"
      ],
      "metadata": {
        "id": "DWk2wiPxNSAL",
        "colab": {
          "base_uri": "https://localhost:8080/"
        },
        "outputId": "3d5150cf-1b7c-49f9-bd6d-1f893b6683f8"
      },
      "execution_count": 15,
      "outputs": [
        {
          "output_type": "stream",
          "name": "stdout",
          "text": [
            "[]\n"
          ]
        }
      ]
    },
    {
      "cell_type": "code",
      "source": [
        "conexao=sqlite3.connect(\"controle_horas.db\")\n",
        "cursor2=conexao.cursor()\n",
        "\n",
        "sql='DELETE FROM log_entrada_saida'\n",
        "cursor2.execute(sql)\n",
        "conexao.commit()\n",
        "conexao.close()\n"
      ],
      "metadata": {
        "id": "gN1WZnaqRcb0"
      },
      "execution_count": 14,
      "outputs": []
    },
    {
      "cell_type": "code",
      "source": [
        "sql='Select * From log_entrada_saida'\n",
        "cursor3.execute(sql)\n",
        "log_entrada_saida=cursor3.fetchall()\n",
        "conexao.close()\n",
        "print(log_entrada_saida)"
      ],
      "metadata": {
        "id": "G12_5VCbVNSa",
        "colab": {
          "base_uri": "https://localhost:8080/"
        },
        "outputId": "d3900c9c-5335-4039-eeed-692bcad69b99"
      },
      "execution_count": null,
      "outputs": [
        {
          "output_type": "stream",
          "name": "stdout",
          "text": [
            "[]\n"
          ]
        }
      ]
    },
    {
      "cell_type": "code",
      "source": [
        "sql1=\"CREATE TABLE IF NOT EXISTS log_entrada_saida(matricula text, ano text, mes\ttext, dia text, hora_in text, min_in text, seg_in text, hora_out text, min_out\ttext,seg_out text)\"\n",
        "cursor1=conexao.cursor() #executar um comando #Presta Atenção\n",
        "cursor1.execute(sql1)"
      ],
      "metadata": {
        "id": "995Mi6tFOIXQ"
      },
      "execution_count": null,
      "outputs": []
    },
    {
      "cell_type": "code",
      "source": [],
      "metadata": {
        "id": "RT5Kqov58DMn"
      },
      "execution_count": null,
      "outputs": []
    },
    {
      "cell_type": "code",
      "source": [
        "sql=\"CREATE TABLE IF NOT EXISTS aluno(matricula TEXT, nome TEXT)\"\n",
        "cursor1=conexao.cursor() #executar um comando #Presta Atenção\n",
        "cursor1.execute(sql)\n"
      ],
      "metadata": {
        "id": "u4EaHTNiGN7h"
      },
      "execution_count": null,
      "outputs": []
    },
    {
      "cell_type": "code",
      "source": [
        "with open('alunos.csv', 'r') as arquivo:\n",
        "    leitor_aluno = csv.reader(arquivo)\n",
        "    for linha_aluno in leitor_aluno:\n",
        "        print(linha_aluno)"
      ],
      "metadata": {
        "id": "_ON3W3o0FK-i",
        "colab": {
          "base_uri": "https://localhost:8080/"
        },
        "outputId": "1e32c1f0-878b-48be-fef2-00b257bd14aa"
      },
      "execution_count": null,
      "outputs": [
        {
          "output_type": "stream",
          "name": "stdout",
          "text": [
            "['\\ufeffmatricula;nome;dt_nascimento']\n",
            "['21.887.902;Ana Carolina Dias Monteiro;08/04/1994']\n",
            "['21.911.763;Ananda da Silva Santos;24/03/2003']\n",
            "['21.906.549;Anderson Siqueira Ferreira;15/07/2003']\n",
            "['20.758.069;Arthur Gonzaga dos Santos Rosa;15/08/2004']\n",
            "['21.833.215;Bezallel oliveira dos anjos lima;12/11/2002']\n",
            "['23.916.924;Brisa Darc Calado Silva;28/12/2004']\n",
            "['21.911.977;Cleisson da Silva da Encarnação;05/09/2001']\n",
            "['15.556.000;Daniel Costa dos Santos;19/04/1998']\n",
            "['81.009.041;Diego Soares Martins;09/08/1987']\n",
            "['23.915.804;Eric Santana da Hora;22/04/2002']\n",
            "['23.917.760;Everaldo da Silva Neto;08/12/1998']\n",
            "['21.909.025;Filipe Amorim Zendron;25/05/2004']\n",
            "['23.916.921;Filipe de Cerqueira dos Santos;02/05/2000']\n",
            "['162.631.082;Gabriel Silva Lemos dos Santos;22/04/1999']\n",
            "['21.832.927;Iago Santos Silva;26/09/2005']\n",
            "['21.889.048;João Pedro Santa Rita Dourado;27/06/2002']\n",
            "['23.914.662;Lucas Dos Santos Monte;24/02/2005']\n",
            "['21.906.673;Marcos Moraes Nascimento Júnior;01/05/2002']\n",
            "['23.914.655;Marcus Vinicius Vilas Boas da Silva;25/10/2001']\n",
            "['21.911.469;Maxsuell Oliveira Da Fonseca;11/01/2003']\n",
            "['23.917.040;Mayara Cristhine Santos Silva;29/05/2004']\n",
            "['21.909.659;Michael de Jesus Silva;28/07/2004']\n",
            "['12.260.193;Paulo Cesar dos Santos Azevedo;01/03/1979']\n",
            "['21.906.726;Paulo Victor Matos de Almeida Bastos;10/06/1997']\n",
            "['91.148.537;Ricardo Queiroz dos Santos;18/05/1991']\n",
            "['21.911.393;Rodrigo Afonso Barboza do Nascimento;19/10/1982']\n",
            "['23.915.923;Sean Derik da Silva Rodrigues;30/01/2005']\n",
            "['23.917.053;Tainá Sacramento da Silva;14/08/2002']\n",
            "['14.381.390;Tales Santana de França;24/07/1997']\n",
            "['21.892.862;Tawã Júlio Carvalho Caixêta;08/10/1992']\n",
            "['14.456.395;Wesley Paim Santana Meireles;02/11/1994']\n",
            "['21.837.213;Yuri Silva Carvalho;16/08/2003']\n"
          ]
        }
      ]
    },
    {
      "cell_type": "code",
      "source": [
        "'21.837.213;2024;3;26;18;47;17;21;29;15'"
      ],
      "metadata": {
        "id": "FEEiYt5iT6fK"
      },
      "execution_count": null,
      "outputs": []
    },
    {
      "cell_type": "code",
      "source": [
        "print(linha.split(\";\"))"
      ],
      "metadata": {
        "colab": {
          "base_uri": "https://localhost:8080/"
        },
        "id": "C4SY1FdHUu9l",
        "outputId": "64e2fd8f-fe25-46be-e321-4bec72a410a1"
      },
      "execution_count": null,
      "outputs": [
        {
          "output_type": "stream",
          "name": "stdout",
          "text": [
            "['21.837.213', '2024', '3', '26', '18', '47', '17', '21', '29', '15']\n"
          ]
        }
      ]
    },
    {
      "cell_type": "code",
      "source": [
        "with open('log_entrada_saida.txt' ,'r') as arquivo_log:\n",
        "  log_e_s = csv.reader(arquivo_log)\n",
        "  for linha_log in log_e_s:\n",
        "    teste = (linha_log[0].split('\\t'))\n",
        "    if not 'maricula' in teste:\n",
        "      teste02 = \"INSERT into log_entrada_saida(maricula,ano,mes,dia,hora,minuto,segundo,tipo) values('{0}','{1}','{2}','{3}','{4}','{5}','{6}','{7}')\".format(teste[0],teste[1],teste[2],teste[3],teste[4],teste[5],teste[6],teste[7])\n",
        "      print(teste02)\n"
      ],
      "metadata": {
        "id": "TO-xDrJHFJNT",
        "colab": {
          "base_uri": "https://localhost:8080/"
        },
        "outputId": "1272723c-3006-4301-a71d-0be7fced6bcc"
      },
      "execution_count": 50,
      "outputs": [
        {
          "output_type": "stream",
          "name": "stdout",
          "text": [
            "INSERT into log_entrada_saida(maricula,ano,mes,dia,hora,minuto,segundo,tipo) values('matricula','ano','mês','dia','hora','min','seg','tipo')\n",
            "INSERT into log_entrada_saida(maricula,ano,mes,dia,hora,minuto,segundo,tipo) values('21.887.902','2024','3','26','18','40','0','1')\n",
            "INSERT into log_entrada_saida(maricula,ano,mes,dia,hora,minuto,segundo,tipo) values('21.911.763','2024','3','26','19','42','1','1')\n",
            "INSERT into log_entrada_saida(maricula,ano,mes,dia,hora,minuto,segundo,tipo) values('21.906.549','2024','3','26','18','45','30','1')\n",
            "INSERT into log_entrada_saida(maricula,ano,mes,dia,hora,minuto,segundo,tipo) values('20.758.069','2024','3','26','18','50','42','1')\n",
            "INSERT into log_entrada_saida(maricula,ano,mes,dia,hora,minuto,segundo,tipo) values('21.833.215','2024','3','26','19','51','50','1')\n",
            "INSERT into log_entrada_saida(maricula,ano,mes,dia,hora,minuto,segundo,tipo) values('23.916.924','2024','3','26','19','55','41','1')\n",
            "INSERT into log_entrada_saida(maricula,ano,mes,dia,hora,minuto,segundo,tipo) values('21.911.977','2024','3','26','18','32','23','1')\n",
            "INSERT into log_entrada_saida(maricula,ano,mes,dia,hora,minuto,segundo,tipo) values('15.556.000','2024','3','26','18','20','45','1')\n",
            "INSERT into log_entrada_saida(maricula,ano,mes,dia,hora,minuto,segundo,tipo) values('81.009.041','2024','3','26','18','35','55','1')\n",
            "INSERT into log_entrada_saida(maricula,ano,mes,dia,hora,minuto,segundo,tipo) values('23.915.804','2024','3','26','18','48','41','1')\n",
            "INSERT into log_entrada_saida(maricula,ano,mes,dia,hora,minuto,segundo,tipo) values('23.917.760','2024','3','26','19','47','12','0')\n",
            "INSERT into log_entrada_saida(maricula,ano,mes,dia,hora,minuto,segundo,tipo) values('21.909.025','2024','3','26','19','46','18','0')\n",
            "INSERT into log_entrada_saida(maricula,ano,mes,dia,hora,minuto,segundo,tipo) values('23.916.921','2024','3','26','18','40','20','0')\n",
            "INSERT into log_entrada_saida(maricula,ano,mes,dia,hora,minuto,segundo,tipo) values('162.631.082','2024','3','26','18','42','26','1')\n",
            "INSERT into log_entrada_saida(maricula,ano,mes,dia,hora,minuto,segundo,tipo) values('21.832.927','2024','3','26','19','43','54','1')\n",
            "INSERT into log_entrada_saida(maricula,ano,mes,dia,hora,minuto,segundo,tipo) values('21.889.048','2024','3','26','19','47','6','1')\n",
            "INSERT into log_entrada_saida(maricula,ano,mes,dia,hora,minuto,segundo,tipo) values('23.914.662','2024','3','26','18','30','7','1')\n",
            "INSERT into log_entrada_saida(maricula,ano,mes,dia,hora,minuto,segundo,tipo) values('21.906.673','2024','3','26','19','42','13','0')\n",
            "INSERT into log_entrada_saida(maricula,ano,mes,dia,hora,minuto,segundo,tipo) values('23.914.655','2024','3','26','18','45','17','0')\n",
            "INSERT into log_entrada_saida(maricula,ano,mes,dia,hora,minuto,segundo,tipo) values('21.911.469','2024','3','26','18','50','19','0')\n",
            "INSERT into log_entrada_saida(maricula,ano,mes,dia,hora,minuto,segundo,tipo) values('23.917.040','2024','3','26','19','51','8','1')\n",
            "INSERT into log_entrada_saida(maricula,ano,mes,dia,hora,minuto,segundo,tipo) values('21.909.659','2024','3','26','19','55','14','1')\n",
            "INSERT into log_entrada_saida(maricula,ano,mes,dia,hora,minuto,segundo,tipo) values('12.260.193','2024','3','26','18','32','23','1')\n",
            "INSERT into log_entrada_saida(maricula,ano,mes,dia,hora,minuto,segundo,tipo) values('21.906.726','2024','3','26','19','20','15','1')\n",
            "INSERT into log_entrada_saida(maricula,ano,mes,dia,hora,minuto,segundo,tipo) values('91.148.537','2024','3','26','18','35','19','1')\n",
            "INSERT into log_entrada_saida(maricula,ano,mes,dia,hora,minuto,segundo,tipo) values('21.911.393','2024','3','26','18','48','35','1')\n",
            "INSERT into log_entrada_saida(maricula,ano,mes,dia,hora,minuto,segundo,tipo) values('23.915.923','2024','3','26','19','47','4','1')\n",
            "INSERT into log_entrada_saida(maricula,ano,mes,dia,hora,minuto,segundo,tipo) values('23.917.053','2024','3','26','18','32','28','1')\n",
            "INSERT into log_entrada_saida(maricula,ano,mes,dia,hora,minuto,segundo,tipo) values('14.381.390','2024','3','26','18','20','46','1')\n",
            "INSERT into log_entrada_saida(maricula,ano,mes,dia,hora,minuto,segundo,tipo) values('21.892.862','2024','3','26','19','35','48','1')\n",
            "INSERT into log_entrada_saida(maricula,ano,mes,dia,hora,minuto,segundo,tipo) values('14.456.395','2024','3','26','19','48','49','1')\n",
            "INSERT into log_entrada_saida(maricula,ano,mes,dia,hora,minuto,segundo,tipo) values('21.837.213','2024','3','26','18','47','17','1')\n",
            "INSERT into log_entrada_saida(maricula,ano,mes,dia,hora,minuto,segundo,tipo) values('21.887.902','2024','4','1','18','40','0','1')\n",
            "INSERT into log_entrada_saida(maricula,ano,mes,dia,hora,minuto,segundo,tipo) values('21.887.902','2024','4','1','21','30','0','0')\n",
            "INSERT into log_entrada_saida(maricula,ano,mes,dia,hora,minuto,segundo,tipo) values('21.911.763','2024','4','2','19','42','1','1')\n",
            "INSERT into log_entrada_saida(maricula,ano,mes,dia,hora,minuto,segundo,tipo) values('21.911.763','2024','4','2','22','20','1','0')\n",
            "INSERT into log_entrada_saida(maricula,ano,mes,dia,hora,minuto,segundo,tipo) values('21.906.549','2024','4','3','18','45','30','1')\n",
            "INSERT into log_entrada_saida(maricula,ano,mes,dia,hora,minuto,segundo,tipo) values('21.906.549','2024','4','3','21','45','30','0')\n",
            "INSERT into log_entrada_saida(maricula,ano,mes,dia,hora,minuto,segundo,tipo) values('20.758.069','2024','4','4','18','50','42','1')\n",
            "INSERT into log_entrada_saida(maricula,ano,mes,dia,hora,minuto,segundo,tipo) values('20.758.069','2024','4','4','22','50','0','0')\n",
            "INSERT into log_entrada_saida(maricula,ano,mes,dia,hora,minuto,segundo,tipo) values('21.833.215','2024','4','5','19','51','50','1')\n",
            "INSERT into log_entrada_saida(maricula,ano,mes,dia,hora,minuto,segundo,tipo) values('21.833.215','2024','4','5','21','30','0','0')\n",
            "INSERT into log_entrada_saida(maricula,ano,mes,dia,hora,minuto,segundo,tipo) values('23.916.924','2024','4','6','19','55','41','1')\n",
            "INSERT into log_entrada_saida(maricula,ano,mes,dia,hora,minuto,segundo,tipo) values('23.916.924','2024','4','6','20','40','30','0')\n",
            "INSERT into log_entrada_saida(maricula,ano,mes,dia,hora,minuto,segundo,tipo) values('21.911.977','2024','4','7','18','32','23','1')\n",
            "INSERT into log_entrada_saida(maricula,ano,mes,dia,hora,minuto,segundo,tipo) values('21.911.977','2024','4','7','22','0','0','0')\n",
            "INSERT into log_entrada_saida(maricula,ano,mes,dia,hora,minuto,segundo,tipo) values('15.556.000','2024','4','8','18','20','45','1')\n",
            "INSERT into log_entrada_saida(maricula,ano,mes,dia,hora,minuto,segundo,tipo) values('81.009.041','2024','4','9','18','35','55','1')\n",
            "INSERT into log_entrada_saida(maricula,ano,mes,dia,hora,minuto,segundo,tipo) values('23.915.804','2024','4','10','18','48','41','1')\n",
            "INSERT into log_entrada_saida(maricula,ano,mes,dia,hora,minuto,segundo,tipo) values('23.917.760','2024','4','11','19','47','12','0')\n",
            "INSERT into log_entrada_saida(maricula,ano,mes,dia,hora,minuto,segundo,tipo) values('21.909.025','2024','4','12','19','46','18','0')\n",
            "INSERT into log_entrada_saida(maricula,ano,mes,dia,hora,minuto,segundo,tipo) values('23.916.921','2024','4','13','18','40','20','0')\n",
            "INSERT into log_entrada_saida(maricula,ano,mes,dia,hora,minuto,segundo,tipo) values('162.631.082','2024','4','14','18','42','26','1')\n",
            "INSERT into log_entrada_saida(maricula,ano,mes,dia,hora,minuto,segundo,tipo) values('21.832.927','2024','4','15','19','43','54','1')\n",
            "INSERT into log_entrada_saida(maricula,ano,mes,dia,hora,minuto,segundo,tipo) values('21.889.048','2024','4','16','19','47','6','1')\n",
            "INSERT into log_entrada_saida(maricula,ano,mes,dia,hora,minuto,segundo,tipo) values('23.914.662','2024','4','17','18','30','7','1')\n",
            "INSERT into log_entrada_saida(maricula,ano,mes,dia,hora,minuto,segundo,tipo) values('21.906.673','2024','4','18','19','42','13','0')\n",
            "INSERT into log_entrada_saida(maricula,ano,mes,dia,hora,minuto,segundo,tipo) values('23.914.655','2024','4','19','18','45','17','0')\n",
            "INSERT into log_entrada_saida(maricula,ano,mes,dia,hora,minuto,segundo,tipo) values('21.911.469','2024','4','20','18','50','19','0')\n",
            "INSERT into log_entrada_saida(maricula,ano,mes,dia,hora,minuto,segundo,tipo) values('23.917.040','2024','4','21','19','51','8','1')\n",
            "INSERT into log_entrada_saida(maricula,ano,mes,dia,hora,minuto,segundo,tipo) values('21.909.659','2024','4','22','19','55','14','1')\n",
            "INSERT into log_entrada_saida(maricula,ano,mes,dia,hora,minuto,segundo,tipo) values('12.260.193','2024','4','23','18','32','23','1')\n",
            "INSERT into log_entrada_saida(maricula,ano,mes,dia,hora,minuto,segundo,tipo) values('21.906.726','2024','4','24','19','20','15','1')\n",
            "INSERT into log_entrada_saida(maricula,ano,mes,dia,hora,minuto,segundo,tipo) values('91.148.537','2024','4','25','18','35','19','1')\n",
            "INSERT into log_entrada_saida(maricula,ano,mes,dia,hora,minuto,segundo,tipo) values('21.911.393','2024','4','26','18','48','35','1')\n",
            "INSERT into log_entrada_saida(maricula,ano,mes,dia,hora,minuto,segundo,tipo) values('23.915.923','2024','4','27','19','47','4','1')\n",
            "INSERT into log_entrada_saida(maricula,ano,mes,dia,hora,minuto,segundo,tipo) values('23.917.053','2024','4','28','18','32','28','1')\n",
            "INSERT into log_entrada_saida(maricula,ano,mes,dia,hora,minuto,segundo,tipo) values('14.381.390','2024','4','29','18','20','46','1')\n",
            "INSERT into log_entrada_saida(maricula,ano,mes,dia,hora,minuto,segundo,tipo) values('21.892.862','2024','4','30','19','35','48','1')\n",
            "INSERT into log_entrada_saida(maricula,ano,mes,dia,hora,minuto,segundo,tipo) values('14.456.395','2024','4','31','19','48','49','1')\n",
            "INSERT into log_entrada_saida(maricula,ano,mes,dia,hora,minuto,segundo,tipo) values('21.837.213','2024','4','30','18','47','17','1')\n",
            "INSERT into log_entrada_saida(maricula,ano,mes,dia,hora,minuto,segundo,tipo) values('15.556.000','2024','4','8','21','20','45','0')\n",
            "INSERT into log_entrada_saida(maricula,ano,mes,dia,hora,minuto,segundo,tipo) values('81.009.041','2024','4','9','22','50','0','0')\n",
            "INSERT into log_entrada_saida(maricula,ano,mes,dia,hora,minuto,segundo,tipo) values('23.915.804','2024','4','10','19','40','0','0')\n",
            "INSERT into log_entrada_saida(maricula,ano,mes,dia,hora,minuto,segundo,tipo) values('23.917.760','2024','4','11','17','30','12','1')\n",
            "INSERT into log_entrada_saida(maricula,ano,mes,dia,hora,minuto,segundo,tipo) values('21.909.025','2024','4','12','18','0','0','1')\n",
            "INSERT into log_entrada_saida(maricula,ano,mes,dia,hora,minuto,segundo,tipo) values('23.916.921','2024','4','13','16','40','20','1')\n",
            "INSERT into log_entrada_saida(maricula,ano,mes,dia,hora,minuto,segundo,tipo) values('162.631.082','2024','4','14','22','0','10','0')\n",
            "INSERT into log_entrada_saida(maricula,ano,mes,dia,hora,minuto,segundo,tipo) values('21.832.927','2024','4','15','21','40','54','0')\n",
            "INSERT into log_entrada_saida(maricula,ano,mes,dia,hora,minuto,segundo,tipo) values('21.889.048','2024','4','16','22','10','0','0')\n",
            "INSERT into log_entrada_saida(maricula,ano,mes,dia,hora,minuto,segundo,tipo) values('23.914.662','2024','4','17','20','30','0','0')\n",
            "INSERT into log_entrada_saida(maricula,ano,mes,dia,hora,minuto,segundo,tipo) values('21.906.673','2024','4','18','16','20','15','1')\n",
            "INSERT into log_entrada_saida(maricula,ano,mes,dia,hora,minuto,segundo,tipo) values('23.914.655','2024','4','19','16','40','17','1')\n",
            "INSERT into log_entrada_saida(maricula,ano,mes,dia,hora,minuto,segundo,tipo) values('21.911.469','2024','4','20','16','55','0','1')\n",
            "INSERT into log_entrada_saida(maricula,ano,mes,dia,hora,minuto,segundo,tipo) values('23.917.040','2024','4','21','22','20','8','0')\n",
            "INSERT into log_entrada_saida(maricula,ano,mes,dia,hora,minuto,segundo,tipo) values('21.909.659','2024','4','22','21','40','14','0')\n",
            "INSERT into log_entrada_saida(maricula,ano,mes,dia,hora,minuto,segundo,tipo) values('12.260.193','2024','4','23','21','45','10','0')\n",
            "INSERT into log_entrada_saida(maricula,ano,mes,dia,hora,minuto,segundo,tipo) values('21.906.726','2024','4','24','22','20','0','0')\n",
            "INSERT into log_entrada_saida(maricula,ano,mes,dia,hora,minuto,segundo,tipo) values('91.148.537','2024','4','25','21','55','10','0')\n",
            "INSERT into log_entrada_saida(maricula,ano,mes,dia,hora,minuto,segundo,tipo) values('21.911.393','2024','4','26','22','0','10','0')\n",
            "INSERT into log_entrada_saida(maricula,ano,mes,dia,hora,minuto,segundo,tipo) values('23.915.923','2024','4','27','21','47','4','0')\n",
            "INSERT into log_entrada_saida(maricula,ano,mes,dia,hora,minuto,segundo,tipo) values('23.917.053','2024','4','28','22','20','0','0')\n",
            "INSERT into log_entrada_saida(maricula,ano,mes,dia,hora,minuto,segundo,tipo) values('14.381.390','2024','4','29','21','45','46','0')\n",
            "INSERT into log_entrada_saida(maricula,ano,mes,dia,hora,minuto,segundo,tipo) values('21.892.862','2024','4','30','22','15','48','0')\n",
            "INSERT into log_entrada_saida(maricula,ano,mes,dia,hora,minuto,segundo,tipo) values('14.456.395','2024','4','31','21','30','15','0')\n",
            "INSERT into log_entrada_saida(maricula,ano,mes,dia,hora,minuto,segundo,tipo) values('21.837.213','2024','4','30','19','50','50','0')\n"
          ]
        }
      ]
    },
    {
      "cell_type": "code",
      "source": [
        "if not 'maricula' in teste:\n",
        "  print(teste)\n"
      ],
      "metadata": {
        "colab": {
          "base_uri": "https://localhost:8080/"
        },
        "id": "H4fo0VOQLVYl",
        "outputId": "ae0ef5a0-918a-4519-df27-90356774e209"
      },
      "execution_count": 38,
      "outputs": [
        {
          "output_type": "stream",
          "name": "stdout",
          "text": [
            "['21.837.213', '2024', '4', '30', '19', '50', '50', '0']\n"
          ]
        }
      ]
    },
    {
      "cell_type": "code",
      "source": [
        "linha_log"
      ],
      "metadata": {
        "id": "xJ5PxUN0SqYR",
        "colab": {
          "base_uri": "https://localhost:8080/"
        },
        "outputId": "c38ed453-7a5e-4052-c3d5-ccbde736f496"
      },
      "execution_count": 27,
      "outputs": [
        {
          "output_type": "execute_result",
          "data": {
            "text/plain": [
              "['21.837.213\\t2024\\t4\\t30\\t19\\t50\\t50\\t0']"
            ]
          },
          "metadata": {},
          "execution_count": 27
        }
      ]
    },
    {
      "cell_type": "code",
      "source": [
        "if not 'maricula' in teste:\n",
        "  print (teste[4])"
      ],
      "metadata": {
        "id": "49MOPSCT83PJ",
        "colab": {
          "base_uri": "https://localhost:8080/"
        },
        "outputId": "12377ff5-ee21-45c8-c897-f37c9d2561ac"
      },
      "execution_count": 49,
      "outputs": [
        {
          "output_type": "stream",
          "name": "stdout",
          "text": [
            "hora\n"
          ]
        }
      ]
    },
    {
      "cell_type": "code",
      "source": [
        "len(linha)"
      ],
      "metadata": {
        "id": "JAsYN9649BIh"
      },
      "execution_count": null,
      "outputs": []
    },
    {
      "cell_type": "code",
      "source": [
        "type(log_e_s)"
      ],
      "metadata": {
        "id": "P-9v5taTBWLr",
        "colab": {
          "base_uri": "https://localhost:8080/"
        },
        "outputId": "ce1b4a15-4176-493e-b1b2-ad6d4fc64b9a"
      },
      "execution_count": 32,
      "outputs": [
        {
          "output_type": "execute_result",
          "data": {
            "text/plain": [
              "_csv.reader"
            ]
          },
          "metadata": {},
          "execution_count": 32
        }
      ]
    },
    {
      "cell_type": "code",
      "source": [
        "type(linha)"
      ],
      "metadata": {
        "id": "8aitdgaz7nZ7"
      },
      "execution_count": null,
      "outputs": []
    },
    {
      "cell_type": "code",
      "source": [
        "sql=\"INSERT into log_entrada_saida(maricula,ano,mes,dia,hora,minuto,segundo,tipo)\"\n",
        "cursor1=conexao.cursor() #executar um comando #Presta Atenção\n",
        "cursor1.execute(sql)\n",
        "\n",
        "insert into log_entrada_saida(maricula,ano,mes,dia,hora,minuto,segundo,tipo)\n",
        "values('123','2025','8','16','10','40','0','1')"
      ],
      "metadata": {
        "id": "Lo15OsSJXLhZ"
      },
      "execution_count": null,
      "outputs": []
    },
    {
      "cell_type": "markdown",
      "source": [],
      "metadata": {
        "id": "7_bA9TdYa0up"
      }
    },
    {
      "cell_type": "code",
      "source": [
        "print(log_entrada_saida)"
      ],
      "metadata": {
        "colab": {
          "base_uri": "https://localhost:8080/"
        },
        "id": "Pf7b2MCuafNJ",
        "outputId": "4cace229-9314-40a4-a05b-ddc2aef5b923"
      },
      "execution_count": null,
      "outputs": [
        {
          "output_type": "stream",
          "name": "stdout",
          "text": [
            "[]\n"
          ]
        }
      ]
    }
  ]
}